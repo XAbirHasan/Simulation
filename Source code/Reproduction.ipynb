{
  "nbformat": 4,
  "nbformat_minor": 2,
  "metadata": {
    "colab": {
      "name": "Final Assignment- 1.ipynb",
      "provenance": []
    },
    "kernelspec": {
      "name": "python3",
      "display_name": "Python 3"
    },
    "language_info": {
      "name": "python"
    }
  },
  "cells": [
    {
      "cell_type": "markdown",
      "source": [
        "# Reproduction"
      ],
      "metadata": {
        "id": "oXAfhB5HcVE2"
      }
    },
    {
      "cell_type": "markdown",
      "source": [
        "Suppose you have a 5 * 5 array. Each cell of the array is either 0 (Dead) or 1 (Alive)\n",
        "Now The value of a given cell at the next instant of time depends on the state of its\n",
        "neighbours at the previous time step. There are four rules:\n",
        "1. If a cell is Alive and has fewer than two neighbours that are Alive, it dies on the\n",
        "next time step.\n",
        "2. If a cell is Alive and has exactly two neighbours that are Alive, it remains Alive on\n",
        "the next time step.\n",
        "3. If a cell is alive and has more than two neighbours that are Alive, it dies on the\n",
        "next time step.\n",
        "4. If a cell is Dead and has two or three neighbours that are alive, it turns Alive on\n",
        "the next time step.\n"
      ],
      "metadata": {
        "id": "wTmRJAaicfee"
      }
    },
    {
      "cell_type": "code",
      "execution_count": null,
      "source": [
        "import copy"
      ],
      "outputs": [],
      "metadata": {
        "id": "EiMltCWo6vRA"
      }
    },
    {
      "cell_type": "code",
      "execution_count": null,
      "source": [
        "def _init_():\r\n",
        "    array = [[0, 1, 0, 0, 0],\r\n",
        "            [0, 0, 1, 0, 0],\r\n",
        "            [0, 1, 1, 0, 1],\r\n",
        "            [0, 1, 0, 0, 1],\r\n",
        "            [0, 0, 0, 0, 0]]\r\n",
        "    return array"
      ],
      "outputs": [],
      "metadata": {
        "id": "l85l6_y9cN90"
      }
    },
    {
      "cell_type": "code",
      "execution_count": null,
      "source": [
        "def _print_(arr):\r\n",
        "    for i in range(0, len(arr)):\r\n",
        "        for j in range(0, len(arr[i])):\r\n",
        "            print(arr[i][j], end = \" \")\r\n",
        "        print()"
      ],
      "outputs": [],
      "metadata": {
        "id": "Hw6Fj7crg_ft"
      }
    },
    {
      "cell_type": "code",
      "execution_count": null,
      "source": [
        "def get_alive_neighbours(arr, i, j, N):\r\n",
        "    count = 0\r\n",
        "    if (i > 0 and arr[i - 1][j] == 1):count += 1\r\n",
        "    if (j > 0 and arr[i][j - 1] == 1):count += 1\r\n",
        "    if (i > 0 and j > 0 and arr[i - 1][j - 1] == 1):count += 1\r\n",
        "    if (i < N - 1 and arr[i + 1][j] == 1):count += 1\r\n",
        "    if (j < N - 1 and arr[i][j + 1] == 1):count += 1\r\n",
        "    if (i < N - 1 and j < N - 1 and arr[i + 1][j + 1] == 1):count += 1\r\n",
        "    if (i < N - 1 and j > 0 and arr[i + 1][j - 1] == 1):count += 1\r\n",
        "    if (i > 0 and j < N - 1 and arr[i - 1][j + 1] == 1):count += 1\r\n",
        "    \r\n",
        "    return count"
      ],
      "outputs": [],
      "metadata": {
        "id": "QvBc_p8ejq21"
      }
    },
    {
      "cell_type": "code",
      "execution_count": null,
      "source": [
        "def simulate(arr):\r\n",
        "    temp = copy.deepcopy(arr)\r\n",
        "    n = len(arr)\r\n",
        "    for i in range(0, n):\r\n",
        "        for j in range(0, n):\r\n",
        "            neighbours_count = get_alive_neighbours(temp, i, j, n)\r\n",
        "            #print(\"\\n\\n----------------------------------------\\n\\n\")\r\n",
        "            # _print_(arr)\r\n",
        "            #print(neighbours_count, \"i: \", i, \" j: \", j)\r\n",
        "            \r\n",
        "            if arr[i][j] == 1 and neighbours_count < 2 : arr[i][j] = 0; #print(\"Effect1\")\r\n",
        "            elif arr[i][j] == 1 and neighbours_count == 2 : arr[i][j] = 1; #print(\"Effect2\")\r\n",
        "            elif arr[i][j] == 1 and neighbours_count > 2 : arr[i][j] = 0; #print(\"Effect2\")\r\n",
        "            elif arr[i][j] == 0 and (neighbours_count == 2 or neighbours_count == 3) : arr[i][j] = 1; #print(\"Effect4\")\r\n",
        "\r\n",
        "            # _print_(arr)\r\n"
      ],
      "outputs": [],
      "metadata": {
        "id": "kHDo6twCg59Y"
      }
    },
    {
      "cell_type": "code",
      "execution_count": null,
      "source": [
        "T = 20\r\n",
        "t = 1\r\n",
        "arr = _init_()\r\n",
        "print(\"Time: 0\")\r\n",
        "_print_(arr)\r\n",
        "while(t<=T):\r\n",
        "    print(\"\\n\\n----------------------------------------\\n\\n\")\r\n",
        "    print(\"Time: \", t)\r\n",
        "    simulate(arr)\r\n",
        "    _print_(arr)\r\n",
        "    t += 1"
      ],
      "outputs": [],
      "metadata": {
        "id": "HEnH-4mBlBj0"
      }
    }
  ]
}