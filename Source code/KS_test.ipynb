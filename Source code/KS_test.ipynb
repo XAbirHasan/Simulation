{
  "nbformat": 4,
  "nbformat_minor": 2,
  "metadata": {
    "colab": {
      "name": "Simulation theory.ipynb",
      "provenance": [],
      "collapsed_sections": [
        "kwvJvHdHpX44",
        "a-pnBL14HuW6"
      ]
    },
    "kernelspec": {
      "name": "python3",
      "display_name": "Python 3"
    },
    "language_info": {
      "name": "python"
    }
  },
  "cells": [
    {
      "cell_type": "markdown",
      "source": [
        "# KS test"
      ],
      "metadata": {
        "id": "kwvJvHdHpX44"
      }
    },
    {
      "cell_type": "code",
      "execution_count": null,
      "source": [
        "import math"
      ],
      "outputs": [],
      "metadata": {
        "colab": {
          "base_uri": "https://localhost:8080/"
        },
        "id": "eTP5mNlN2vIF",
        "outputId": "bb4bcc85-cbf7-4ed8-e667-6cbab5f36987"
      }
    },
    {
      "cell_type": "code",
      "execution_count": null,
      "source": [
        "class KS_TEST:\r\n",
        "    def __init__(self, l):\r\n",
        "        self.yk = l.copy()\r\n",
        "        self.N =  len(self.yk)\r\n",
        "        self.print_list = []\r\n",
        "\r\n",
        "    def F0(self, x):\r\n",
        "        # if (x<0):return 0\r\n",
        "        # elif (x>=0 and x<=2):return x/2\r\n",
        "        # else: return 1\r\n",
        "        #update here\r\n",
        "        if (x<0):\r\n",
        "            return 0\r\n",
        "        else: \r\n",
        "            val = round( (0.6*(math.exp(2*x) - 1)) + (0.4*(math.exp( -2*x ) - 1)) , 2)\r\n",
        "            val = (0.6*(math.exp(2*x) - 1)) + (0.4*(math.exp( -2*x ) - 1))\r\n",
        "            return val\r\n",
        "\r\n",
        "    def simulate(self):\r\n",
        "        self.yk = sorted(self.yk)\r\n",
        "        abs_fnyk_1_list = []\r\n",
        "        abs_fnyk_list = []\r\n",
        "        print(\"---------------------------------------------------------------------------------------------------------------------------------------------------------\")\r\n",
        "        print(\"|\\t K\\t|\\tYk\\t|\\tFn(Yk-1)\\t|\\tF0(Yk)\\t|\\tFn(Yk)\\t|\\tABS[Fn(Yk-1) - F0(Yk)]\\t|\\tABS[Fn(Yk) - F0(Yk)]\\t|\")\r\n",
        "        print(\"---------------------------------------------------------------------------------------------------------------------------------------------------------\")\r\n",
        "        for k in range(1, self.N+1):\r\n",
        "            self.print_list = []\r\n",
        "\r\n",
        "            self.print_list.append(k)\r\n",
        "            self.print_list.append(self.yk[k-1])\r\n",
        "            \r\n",
        "            fnyk_1 = (k-1)/self.N\r\n",
        "            f0yk = self.F0(self.yk[k-1])\r\n",
        "            fnyk = k/self.N\r\n",
        "\r\n",
        "            abs1 = abs(fnyk_1- f0yk)\r\n",
        "            abs2 = abs(fnyk - f0yk)\r\n",
        "\r\n",
        "            abs_fnyk_1_list.append(abs1) #max finder 2nd last column: ABS[Fn(Yk-1) - F0(Yk)]\r\n",
        "            abs_fnyk_list.append(abs2) #max finder last column: ABS[Fn(Yk) - F0(Yk)]\r\n",
        "\r\n",
        "            self.print_list.append(fnyk_1)\r\n",
        "            self.print_list.append(f0yk)\r\n",
        "            self.print_list.append(fnyk)\r\n",
        "            self.print_list.append(abs1)\r\n",
        "            self.print_list.append(abs2)\r\n",
        "            \r\n",
        "            self.print_the_list()\r\n",
        "            print(\"\\n---------------------------------------------------------------------------------------------------------------------------------------------------------\")\r\n",
        "        \r\n",
        "        Dmax =  max(max(abs_fnyk_1_list), max(abs_fnyk_list))\r\n",
        "        print(\"\\n\\n\\n\\n\\tDmax: \", round(Dmax, 2))\r\n",
        "\r\n",
        "\r\n",
        "    def print_the_list(self):\r\n",
        "        print(\"|\\t\", self.print_list[0] , end = \"\\t|\\t\")\r\n",
        "        print(self.print_list[1] , end = \"\\t|\\t\")\r\n",
        "        print(round(self.print_list[2], 2) , end = \"\\t\\t|\\t\")\r\n",
        "        print(round(self.print_list[3], 2) , end = \"\\t|\\t\")\r\n",
        "        print(round(self.print_list[4], 2) , end = \"\\t|\\t\")\r\n",
        "        print(\"\\t\",round(self.print_list[5], 2) , end = \"\\t\\t|\\t\")\r\n",
        "        print(\"\\t\",round(self.print_list[6], 2) , end = \"\\t\\t|\\t\")"
      ],
      "outputs": [],
      "metadata": {
        "id": "HtzJjWDEpVHt"
      }
    },
    {
      "cell_type": "code",
      "execution_count": null,
      "source": [
        "# l = [1.41, 0.26, 1.97, 0.33, 0.55, 0.77, 1.46, 1.18]\r\n",
        "#update here\r\n",
        "l = [1.41, 0.26, 1.97, 0.33, 1.46]\r\n",
        "x =  KS_TEST(l)\r\n",
        "x.simulate()"
      ],
      "outputs": [
        {
          "output_type": "stream",
          "name": "stdout",
          "text": [
            "---------------------------------------------------------------------------------------------------------------------------------------------------------\n",
            "|\t K\t|\tYk\t|\tFn(Yk-1)\t|\tF0(Yk)\t|\tFn(Yk)\t|\tABS[Fn(Yk-1) - F0(Yk)]\t|\tABS[Fn(Yk) - F0(Yk)]\t|\n",
            "---------------------------------------------------------------------------------------------------------------------------------------------------------\n",
            "|\t 1\t|\t0.26\t|\t0.0\t\t|\t0.25\t|\t0.2\t|\t\t 0.25\t\t|\t\t 0.05\t\t|\t\n",
            "---------------------------------------------------------------------------------------------------------------------------------------------------------\n",
            "|\t 2\t|\t0.33\t|\t0.2\t\t|\t0.37\t|\t0.4\t|\t\t 0.17\t\t|\t\t 0.03\t\t|\t\n",
            "---------------------------------------------------------------------------------------------------------------------------------------------------------\n",
            "|\t 3\t|\t1.41\t|\t0.4\t\t|\t9.09\t|\t0.6\t|\t\t 8.69\t\t|\t\t 8.49\t\t|\t\n",
            "---------------------------------------------------------------------------------------------------------------------------------------------------------\n",
            "|\t 4\t|\t1.46\t|\t0.6\t\t|\t10.15\t|\t0.8\t|\t\t 9.55\t\t|\t\t 9.35\t\t|\t\n",
            "---------------------------------------------------------------------------------------------------------------------------------------------------------\n",
            "|\t 5\t|\t1.97\t|\t0.8\t\t|\t29.86\t|\t1.0\t|\t\t 29.06\t\t|\t\t 28.86\t\t|\t\n",
            "---------------------------------------------------------------------------------------------------------------------------------------------------------\n",
            "\n",
            "\n",
            "\n",
            "\n",
            "\tDmax:  29.06\n"
          ]
        }
      ],
      "metadata": {
        "colab": {
          "base_uri": "https://localhost:8080/"
        },
        "id": "QKqZIrx16hMJ",
        "outputId": "22bc8016-99db-4d4e-d9b8-80c23012d70f"
      }
    }
  ]
}