{
  "nbformat": 4,
  "nbformat_minor": 2,
  "metadata": {
    "colab": {
      "name": "Simulation assignment 4.ipynb",
      "provenance": []
    },
    "kernelspec": {
      "name": "python3",
      "display_name": "Python 3"
    },
    "language_info": {
      "name": "python"
    }
  },
  "cells": [
    {
      "cell_type": "markdown",
      "source": [
        "# Monte Carlo Integral"
      ],
      "metadata": {
        "id": "V0kUeMaEufuI"
      }
    },
    {
      "cell_type": "markdown",
      "source": [
        "## 1\n",
        "Find the Integral of  x2 ex ln(x) limit x=0 to x=2 using monte carlo integral. Use 100, 1000, 5000, 10000 data points and print the integral value and error estimate. Also draw error vs n graph. \n",
        "\n",
        "Here n= number of points."
      ],
      "metadata": {
        "id": "9X1ESVhouncW"
      }
    },
    {
      "cell_type": "code",
      "execution_count": null,
      "source": [
        "import numpy as np\r\n",
        "import math\r\n",
        "import matplotlib.pyplot as plt"
      ],
      "outputs": [],
      "metadata": {
        "id": "kF12HRiKt_mJ"
      }
    },
    {
      "cell_type": "code",
      "execution_count": null,
      "source": [
        "def f(x):\r\n",
        "    return (x**2) * math.exp(x) * math.log(x)   #x^2e^xln(x)"
      ],
      "outputs": [],
      "metadata": {
        "id": "VebWnh9sui8e"
      }
    },
    {
      "cell_type": "code",
      "execution_count": null,
      "source": [
        "trials_list = [100, 500, 1000, 5000]\r\n",
        "a = 0\r\n",
        "b = 2\r\n",
        "err_list = []\r\n",
        "for n in trials_list:\r\n",
        "    f_x_list = []\r\n",
        "    f_xsq_list = []\r\n",
        "    for i in range (0, n):\r\n",
        "        x = np.random.uniform(a,b)\r\n",
        "        f_x = (f(x))\r\n",
        "        f_x_list.append(f_x)\r\n",
        "        f_xsq_list.append(f_x**2)\r\n",
        "    func_avg = sum(f_x_list)/len(f_x_list)\r\n",
        "    func_squared_avg = sum(f_xsq_list)/len(f_xsq_list)\r\n",
        "    print(\"\\n---------------------------------------------------------\\n\")\r\n",
        "    print(\"For n = \", n)\r\n",
        "    intergral = func_avg*(b-a)\r\n",
        "    print(\"Integral : \", intergral)\r\n",
        "    error = ((b-a)*math.sqrt(func_squared_avg - func_avg**2))/math.sqrt(n)\r\n",
        "    print(\"error: \", error)\r\n",
        "    err_list.append(error)\r\n",
        "\r\n",
        "\r\n",
        "print(\"\\n\\n\\nBar chart\")\r\n",
        "trials = list(map(str, trials_list))\r\n",
        "plt.bar(trials, err_list, label = \"errors\")\r\n",
        "plt.rcParams['figure.figsize'] = (10,6)\r\n",
        "plt.xlabel(\"Trials no:\")\r\n",
        "plt.ylabel(\"error unit\")\r\n",
        "plt.legend()\r\n",
        "plt.show()"
      ],
      "outputs": [
        {
          "output_type": "stream",
          "name": "stdout",
          "text": [
            "\n",
            "---------------------------------------------------------\n",
            "\n",
            "For n =  100\n",
            "Integral :  7.02873561206774\n",
            "error:  1.1338170651936705\n",
            "\n",
            "---------------------------------------------------------\n",
            "\n",
            "For n =  500\n",
            "Integral :  5.703738534390665\n",
            "error:  0.4608074015613814\n",
            "\n",
            "---------------------------------------------------------\n",
            "\n",
            "For n =  1000\n",
            "Integral :  5.812449244767245\n",
            "error:  0.3251013192905688\n",
            "\n",
            "---------------------------------------------------------\n",
            "\n",
            "For n =  5000\n",
            "Integral :  5.952745202365075\n",
            "error:  0.14501067333765746\n",
            "\n",
            "\n",
            "\n",
            "Bar chart\n"
          ]
        },
        {
          "output_type": "display_data",
          "data": {
            "image/png": "[encoded data removed]",
            "text/plain": [
              "<Figure size 432x288 with 1 Axes>"
            ]
          },
          "metadata": {
            "tags": [],
            "needs_background": "light"
          }
        }
      ],
      "metadata": {
        "colab": {
          "base_uri": "https://localhost:8080/"
        },
        "id": "5U-sYj4KvZ_A",
        "outputId": "9937ba93-0e1d-4a21-875c-1be45548000b"
      }
    },
    {
      "cell_type": "markdown",
      "source": [
        "## 2 \n",
        "Find the area under the curve below using the Monte Carlo Integral.\n",
        "\n",
        "![4.png](data:image/png;base64,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)\n",
        "\n",
        "Equation of curve - (i) is : y2 = 4x\n",
        "\n",
        "Equation of (ii) is: y = 8 - x\n",
        "\n",
        "Simulate this area for n=100,1000,5000,10000 points. For each value of n, print the area and estimated error of integral. \n"
      ],
      "metadata": {
        "id": "zMTqQiYwwzSw"
      }
    },
    {
      "cell_type": "code",
      "execution_count": null,
      "source": [
        "import numpy as np\r\n",
        "import math\r\n",
        "import matplotlib.pyplot as plt"
      ],
      "outputs": [],
      "metadata": {
        "id": "Xm13HL_Fw0_H"
      }
    },
    {
      "cell_type": "code",
      "execution_count": null,
      "source": [
        "def f(x):\r\n",
        "    if(x<=4):\r\n",
        "        return (4*x)**0.5   #y^2=4x  \r\n",
        "    else:\r\n",
        "        return (8-x)        #y = 8 - x"
      ],
      "outputs": [],
      "metadata": {
        "id": "DACOvs43w4w3"
      }
    },
    {
      "cell_type": "code",
      "execution_count": null,
      "source": [
        "trials_list = [100, 500, 1000, 5000]\r\n",
        "a = 0\r\n",
        "b = 8\r\n",
        "err_list = []\r\n",
        "for n in trials_list:\r\n",
        "    f_x_list = []\r\n",
        "    f_xsq_list = []\r\n",
        "    for i in range (0, n):\r\n",
        "        x = np.random.uniform(a,b)\r\n",
        "        f_x = (f(x))\r\n",
        "        f_x_list.append(f_x)\r\n",
        "        f_xsq_list.append(f_x**2)\r\n",
        "    func_avg = sum(f_x_list)/len(f_x_list)\r\n",
        "    func_squared_avg = sum(f_xsq_list)/len(f_xsq_list)\r\n",
        "    print(\"\\n---------------------------------------------------------\\n\")\r\n",
        "    print(\"For n = \", n)\r\n",
        "    intergral = func_avg*(b-a)\r\n",
        "    print(\"Integral : \", intergral)\r\n",
        "    error = ((b-a)*math.sqrt(func_squared_avg - func_avg**2))/math.sqrt(n)\r\n",
        "    print(\"error: \", error)\r\n",
        "    err_list.append(error)\r\n",
        "\r\n",
        "\r\n",
        "print(\"\\n\\n\\nBar chart\")\r\n",
        "trials = list(map(str, trials_list))\r\n",
        "plt.bar(trials, err_list, label = \"errors\")\r\n",
        "plt.rcParams['figure.figsize'] = (10,6)\r\n",
        "plt.xlabel(\"Trials no:\")\r\n",
        "plt.ylabel(\"error unit\")\r\n",
        "plt.legend()\r\n",
        "plt.show()"
      ],
      "outputs": [
        {
          "output_type": "stream",
          "name": "stdout",
          "text": [
            "\n",
            "---------------------------------------------------------\n",
            "\n",
            "For n =  100\n",
            "Integral :  18.388542335532005\n",
            "error:  0.8607208019780501\n",
            "\n",
            "---------------------------------------------------------\n",
            "\n",
            "For n =  500\n",
            "Integral :  19.041552240947723\n",
            "error:  0.3896345937961907\n",
            "\n",
            "---------------------------------------------------------\n",
            "\n",
            "For n =  1000\n",
            "Integral :  18.71888207638777\n",
            "error:  0.2813778631442882\n",
            "\n",
            "---------------------------------------------------------\n",
            "\n",
            "For n =  5000\n",
            "Integral :  18.476943253730195\n",
            "error:  0.12555428073401453\n",
            "\n",
            "\n",
            "\n",
            "Bar chart\n"
          ]
        },
        {
          "output_type": "display_data",
          "data": {
            "image/png": "[encoded data removed]",
            "text/plain": [
              "<Figure size 720x432 with 1 Axes>"
            ]
          },
          "metadata": {
            "tags": [],
            "needs_background": "light"
          }
        }
      ],
      "metadata": {
        "colab": {
          "base_uri": "https://localhost:8080/",
          "height": 864
        },
        "id": "UH0Py3B9w7oX",
        "outputId": "e27d647e-de22-45af-a569-06eb1b58c43b"
      }
    }
  ]
}