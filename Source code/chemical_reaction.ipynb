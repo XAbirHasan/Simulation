{
  "nbformat": 4,
  "nbformat_minor": 2,
  "metadata": {
    "colab": {
      "name": "Final Assignment- 1.ipynb",
      "provenance": []
    },
    "kernelspec": {
      "name": "python3",
      "display_name": "Python 3"
    },
    "language_info": {
      "name": "python"
    }
  },
  "cells": [
    {
      "cell_type": "markdown",
      "source": [
        "# chemical reaction\r\n"
      ],
      "metadata": {
        "id": "A3gEYkV47Gmm"
      }
    },
    {
      "cell_type": "markdown",
      "source": [
        "You have to simulate a chemical reaction involving three agents. At the beginning of the\r\n",
        "reaction two reagents A, B are present in the system with amounts of 50 units and 25\r\n",
        "units respectively and C is present with amounts of 20 units. A and B react together and\r\n",
        "form C. Rate of the forward and backward reactions are .035 and .02 respectively. Now\r\n",
        "simulate the reaction using Python and report the time when the chemical reaction\r\n",
        "reaches equilibrium, the delta_t (time step size) is 0.3 seconds and difference threshold\r\n",
        "is = 0.1 . The equations for the rate of changes are given below:\r\n",
        "\r\n",
        "dA(t)/dt = kb ∗ C(t) −2* kf ∗ A(t) ∗ B(t) \r\n",
        "\r\n",
        "dB(t)/dt = kb ∗ C(t) − 1.6* kf ∗ A(t) ∗ B(t)\r\n",
        "\r\n",
        "dC(t)/dt = 3* kf ∗ A(t) B(t) − 1.8* kb ∗ C(t)\r\n",
        "\r\n",
        "\r\n",
        "where kf and kb are the rates of forward and backward reactions.\r\n",
        "Output should be like the following:\r\n",
        "\r\n",
        "At time= 0.3 :\r\n",
        "\r\n",
        "C1: 23.869999999999997\r\n",
        "\r\n",
        "C2: 4.120000000000001\r\n",
        "\r\n",
        "C3: 59.159000000000006\r\n",
        "\r\n",
        "\r\n",
        "\r\n",
        "\r\n",
        "At time= 0.6 :\r\n",
        "\r\n",
        "C1: 22.159721599999997\r\n",
        "\r\n",
        "C2: 2.8227680800000003\r\n",
        "\r\n",
        "C3: 61.6179314\r\n",
        "\r\n",
        "At time= 0.9 :\r\n",
        "\r\n",
        "C1: 21.2158423377225\r\n",
        "\r\n",
        "C2: 2.1416061878580024\r\n",
        "\r\n",
        "C3: 62.92283801689625\r\n",
        "\r\n",
        "At time= 1.2 :\r\n",
        "\r\n",
        "C1: 20.639223801971063\r\n",
        "\r\n",
        "C2: 1.7558187648771302\r\n",
        "\r\n",
        "C3: 63.67450471209299\r\n",
        "\r\n",
        "At time= 1.5 :\r\n",
        "\r\n",
        "C1: 20.26025736491963\r\n",
        "\r\n",
        "C2: 1.5290550208904965\r\n",
        "\r\n",
        "C3: 64.12834025918836\r\n",
        "\r\n",
        "At time= 1.8 :\r\n",
        "\r\n",
        "C1: 19.994467393259118\r\n",
        "\r\n",
        "C2: 1.393377051873111\r\n",
        "\r\n",
        "C3: 64.41159420421259\r\n",
        "\r\n",
        "At time= 2.1 :\r\n",
        "\r\n",
        "C1: 19.795880485850354\r\n",
        "\r\n",
        "C2: 1.3118014389911536\r\n",
        "\r\n",
        "C3: 64.59353369575815\r\n",
        "\r\n",
        "goes on.............."
      ],
      "metadata": {
        "id": "6OTSjtvbqBIV"
      }
    },
    {
      "cell_type": "code",
      "execution_count": null,
      "source": [
        "a = [50]\r\n",
        "b = [25]\r\n",
        "c = [20]\r\n",
        "kf = 0.035\r\n",
        "kb = 0.02\r\n",
        "delta_t = 0.3\r\n",
        "threshold = 0.1\r\n",
        "t = 0\r\n",
        "time = 0.0"
      ],
      "outputs": [],
      "metadata": {
        "id": "qsmTDows8K7O"
      }
    },
    {
      "cell_type": "code",
      "execution_count": null,
      "source": [
        "c1 = a[0]\r\n",
        "c2 = b[0]\r\n",
        "c3 = c[0]\r\n",
        "print(\"At Time : \", time)\r\n",
        "print(\"\\nC1: \",c1)\r\n",
        "print(\"C2: \",c2)\r\n",
        "print(\"C2: \",c3)"
      ],
      "outputs": [
        {
          "output_type": "stream",
          "name": "stdout",
          "text": [
            "At Time :  0.0\n",
            "\n",
            "C1:  50\n",
            "C2:  25\n",
            "C2:  20\n"
          ]
        }
      ],
      "metadata": {
        "colab": {
          "base_uri": "https://localhost:8080/"
        },
        "id": "u-vqfkv4yu0j",
        "outputId": "1a4d9dfc-b172-4158-bbef-345af6437050"
      }
    },
    {
      "cell_type": "code",
      "execution_count": null,
      "source": [
        "while(True):\r\n",
        "    #c1 findings\r\n",
        "    #dA(t)/dt = kb ∗ C(t) −2* kf ∗ A(t) ∗ B(t)\r\n",
        "    a_rate_of_change =  kb * c[t] - 2 * kf * a[t] * b[t]\r\n",
        "    new_a = a[t] + a_rate_of_change * delta_t\r\n",
        "    a.append(new_a)\r\n",
        "    c1 = new_a\r\n",
        "\r\n",
        "    #c2 findings\r\n",
        "    #dB(t)/dt = kb ∗ C(t) − 1.6* kf ∗ A(t) ∗ B(t)\r\n",
        "    b_rate_of_change =  kb * c[t] - 1.6 * kf * a[t] * b[t]\r\n",
        "    new_b = b[t] + b_rate_of_change * delta_t\r\n",
        "    b.append(new_b)\r\n",
        "    c2 = new_b\r\n",
        "\r\n",
        "    #c3 findings\r\n",
        "    #dC(t)/dt = 3* kf ∗ A(t) B(t) − 1.8* kb ∗ C(t)\r\n",
        "    c_rate_of_change = 3 * kf * a[t] * b[t] - 1.8 * kb * c[t]\r\n",
        "    new_c = c[t] + c_rate_of_change * delta_t\r\n",
        "    c.append(new_c)\r\n",
        "    c3 = new_c\r\n",
        "\r\n",
        "    time += (delta_t*10) #time update\r\n",
        "    t += 1 #index update\r\n",
        "    print(\"\\n\\n---------------------------------------------------\\n\\n\")\r\n",
        "    print(\"At Time : \", time/10)\r\n",
        "    print(\"\\nC1: \",c1)\r\n",
        "    print(\"C2: \",c2)\r\n",
        "    print(\"C2: \",c3)\r\n",
        "\r\n",
        "    c1_difference = abs(c1 - a[t-1])\r\n",
        "    c2_difference = abs(c2 - b[t-1])\r\n",
        "    c3_difference = abs(c3 - c[t-1])\r\n",
        "    if (c1_difference < threshold and c2_difference < threshold and c3_difference < threshold):\r\n",
        "        print(\"\\n\\n----------------------End-----------------------------\")\r\n",
        "        break\r\n",
        "\r\n"
      ],
      "outputs": [],
      "metadata": {
        "id": "hJeMWvNFwOsj"
      }
    }
  ]
}